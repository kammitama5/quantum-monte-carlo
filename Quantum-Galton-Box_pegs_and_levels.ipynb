{
 "cells": [
  {
   "cell_type": "code",
   "execution_count": 1,
   "id": "f5039634",
   "metadata": {},
   "outputs": [
    {
     "name": "stdout",
     "output_type": "stream",
     "text": [
      "Found existing installation: qiskit 2.1.1\n",
      "Uninstalling qiskit-2.1.1:\n",
      "  Successfully uninstalled qiskit-2.1.1\n",
      "\u001b[33mWARNING: Skipping qiskit-terra as it is not installed.\u001b[0m\u001b[33m\n",
      "\u001b[0m"
     ]
    }
   ],
   "source": [
    "!pip uninstall --yes qiskit qiskit-terra"
   ]
  },
  {
   "cell_type": "code",
   "execution_count": 2,
   "id": "c0b50570",
   "metadata": {},
   "outputs": [
    {
     "name": "stdout",
     "output_type": "stream",
     "text": [
      "Collecting qiskit\n",
      "  Using cached qiskit-2.1.1-cp39-abi3-macosx_11_0_arm64.whl.metadata (12 kB)\n",
      "Requirement already satisfied: rustworkx>=0.15.0 in /Users/krystalmaughan/.local/lib/python3.10/site-packages (from qiskit) (0.16.0)\n",
      "Requirement already satisfied: numpy<3,>=1.17 in /Users/krystalmaughan/mambaforge/lib/python3.10/site-packages (from qiskit) (1.24.3)\n",
      "Requirement already satisfied: scipy>=1.5 in /Users/krystalmaughan/.local/lib/python3.10/site-packages (from qiskit) (1.11.0)\n",
      "Requirement already satisfied: dill>=0.3 in /Users/krystalmaughan/mambaforge/lib/python3.10/site-packages (from qiskit) (0.3.7)\n",
      "Requirement already satisfied: stevedore>=3.0.0 in /Users/krystalmaughan/mambaforge/lib/python3.10/site-packages (from qiskit) (5.1.0)\n",
      "Requirement already satisfied: typing-extensions in /Users/krystalmaughan/mambaforge/lib/python3.10/site-packages (from qiskit) (4.5.0)\n",
      "Requirement already satisfied: pbr!=2.1.0,>=2.0.0 in /Users/krystalmaughan/mambaforge/lib/python3.10/site-packages (from stevedore>=3.0.0->qiskit) (5.11.1)\n",
      "Using cached qiskit-2.1.1-cp39-abi3-macosx_11_0_arm64.whl (6.8 MB)\n",
      "Installing collected packages: qiskit\n",
      "Successfully installed qiskit-2.1.1\n"
     ]
    }
   ],
   "source": [
    "!pip install qiskit"
   ]
  },
  {
   "cell_type": "code",
   "execution_count": 3,
   "id": "590d21cf",
   "metadata": {},
   "outputs": [
    {
     "name": "stdout",
     "output_type": "stream",
     "text": [
      "Requirement already satisfied: qiskit-aer in /Users/krystalmaughan/.local/lib/python3.10/site-packages (0.17.1)\n",
      "Requirement already satisfied: qiskit>=1.1.0 in /Users/krystalmaughan/mambaforge/lib/python3.10/site-packages (from qiskit-aer) (2.1.1)\n",
      "Requirement already satisfied: numpy>=1.16.3 in /Users/krystalmaughan/mambaforge/lib/python3.10/site-packages (from qiskit-aer) (1.24.3)\n",
      "Requirement already satisfied: scipy>=1.0 in /Users/krystalmaughan/.local/lib/python3.10/site-packages (from qiskit-aer) (1.11.0)\n",
      "Requirement already satisfied: psutil>=5 in /Users/krystalmaughan/mambaforge/lib/python3.10/site-packages (from qiskit-aer) (5.9.5)\n",
      "Requirement already satisfied: python-dateutil>=2.8.0 in /Users/krystalmaughan/mambaforge/lib/python3.10/site-packages (from qiskit-aer) (2.8.2)\n",
      "Requirement already satisfied: six>=1.5 in /Users/krystalmaughan/mambaforge/lib/python3.10/site-packages (from python-dateutil>=2.8.0->qiskit-aer) (1.16.0)\n",
      "Requirement already satisfied: rustworkx>=0.15.0 in /Users/krystalmaughan/.local/lib/python3.10/site-packages (from qiskit>=1.1.0->qiskit-aer) (0.16.0)\n",
      "Requirement already satisfied: dill>=0.3 in /Users/krystalmaughan/mambaforge/lib/python3.10/site-packages (from qiskit>=1.1.0->qiskit-aer) (0.3.7)\n",
      "Requirement already satisfied: stevedore>=3.0.0 in /Users/krystalmaughan/mambaforge/lib/python3.10/site-packages (from qiskit>=1.1.0->qiskit-aer) (5.1.0)\n",
      "Requirement already satisfied: typing-extensions in /Users/krystalmaughan/mambaforge/lib/python3.10/site-packages (from qiskit>=1.1.0->qiskit-aer) (4.5.0)\n",
      "Requirement already satisfied: pbr!=2.1.0,>=2.0.0 in /Users/krystalmaughan/mambaforge/lib/python3.10/site-packages (from stevedore>=3.0.0->qiskit>=1.1.0->qiskit-aer) (5.11.1)\n"
     ]
    }
   ],
   "source": [
    "!pip install -U qiskit-aer"
   ]
  },
  {
   "cell_type": "markdown",
   "id": "39f96ce5",
   "metadata": {},
   "source": [
    "## A Quantum Peg"
   ]
  },
  {
   "cell_type": "code",
   "execution_count": 4,
   "id": "9394878e",
   "metadata": {},
   "outputs": [
    {
     "name": "stdout",
     "output_type": "stream",
     "text": [
      "Measurement results: {'0000': 507, '0001': 517}\n"
     ]
    }
   ],
   "source": [
    "from qiskit.compiler import transpile\n",
    "from qiskit import QuantumCircuit\n",
    "from qiskit_aer import AerSimulator\n",
    "from qiskit.visualization import plot_histogram\n",
    "\n",
    "# This is the first simple version\n",
    "# Number of qubits representing the path/position\n",
    "num_qubits = 4 \n",
    "qc = QuantumCircuit(num_qubits, num_qubits)\n",
    "\n",
    "# Initialize the \"ball\" (e.g., in a specific starting position)\n",
    "qc.x(0) # Invert the first qubit for a specific starting condition\n",
    "# Here we simulate the \"pegs\" using controlled operations and superposition\n",
    "qc.h(0) # Introduce superposition for a \"peg\"\n",
    "# Simulate interaction and path change (i.e. swap left for input 2)\n",
    "qc.cswap(0, 1, 2) \n",
    "# add control 1 if the ball fell\n",
    "qc.cx(2,0)\n",
    "# Add more layers of \"pegs\" as needed for the desired depth of the QGB\n",
    "qc.cswap(0, 2, 3)\n",
    "# Measure the final state\n",
    "qc.measure(range(num_qubits), range(num_qubits))\n",
    "\n",
    "## For more than 2, we need to Reset: qubit initialize zero..somehow\n",
    "\n",
    "# Run the circuit on a simulator\n",
    "simulator = AerSimulator()\n",
    "compiled_circuit = transpile(qc, simulator)\n",
    "job = simulator.run(compiled_circuit, shots=1024)\n",
    "result = job.result()\n",
    "counts = result.get_counts(compiled_circuit)\n",
    "\n",
    "print(\"Measurement results:\", counts)"
   ]
  },
  {
   "cell_type": "code",
   "execution_count": 5,
   "id": "047801fc",
   "metadata": {
    "scrolled": false
   },
   "outputs": [
    {
     "data": {
      "text/html": [
       "<pre style=\"word-wrap: normal;white-space: pre;background: #fff0;line-height: 1.1;font-family: &quot;Courier New&quot;,Courier,monospace\">     ┌───┐┌───┐   ┌───┐      ┌─┐      \n",
       "q_0: ┤ X ├┤ H ├─■─┤ X ├────■─┤M├──────\n",
       "     └───┘└───┘ │ └─┬─┘┌─┐ │ └╥┘      \n",
       "q_1: ───────────X───┼──┤M├─┼──╫───────\n",
       "                │   │  └╥┘ │  ║ ┌─┐   \n",
       "q_2: ───────────X───■───╫──X──╫─┤M├───\n",
       "                        ║  │  ║ └╥┘┌─┐\n",
       "q_3: ───────────────────╫──X──╫──╫─┤M├\n",
       "                        ║     ║  ║ └╥┘\n",
       "c: 4/═══════════════════╩═════╩══╩══╩═\n",
       "                        1     0  2  3 </pre>"
      ],
      "text/plain": [
       "     ┌───┐┌───┐   ┌───┐      ┌─┐      \n",
       "q_0: ┤ X ├┤ H ├─■─┤ X ├────■─┤M├──────\n",
       "     └───┘└───┘ │ └─┬─┘┌─┐ │ └╥┘      \n",
       "q_1: ───────────X───┼──┤M├─┼──╫───────\n",
       "                │   │  └╥┘ │  ║ ┌─┐   \n",
       "q_2: ───────────X───■───╫──X──╫─┤M├───\n",
       "                        ║  │  ║ └╥┘┌─┐\n",
       "q_3: ───────────────────╫──X──╫──╫─┤M├\n",
       "                        ║     ║  ║ └╥┘\n",
       "c: 4/═══════════════════╩═════╩══╩══╩═\n",
       "                        1     0  2  3 "
      ]
     },
     "execution_count": 5,
     "metadata": {},
     "output_type": "execute_result"
    }
   ],
   "source": [
    "qc.draw()"
   ]
  },
  {
   "cell_type": "code",
   "execution_count": 6,
   "id": "507e2e13",
   "metadata": {},
   "outputs": [
    {
     "data": {
      "image/png": "[encoded data removed]",
      "text/plain": [
       "<Figure size 640x480 with 1 Axes>"
      ]
     },
     "execution_count": 6,
     "metadata": {},
     "output_type": "execute_result"
    }
   ],
   "source": [
    "## Plot distribution\n",
    "simulator = AerSimulator()\n",
    "qc_t = transpile(qc, simulator)\n",
    "job = simulator.run(qc_t, shots=1024)\n",
    "result = job.result()\n",
    "counts = result.get_counts()\n",
    "plot_histogram(counts)"
   ]
  },
  {
   "cell_type": "code",
   "execution_count": 7,
   "id": "909b1854",
   "metadata": {},
   "outputs": [],
   "source": [
    "from qiskit_aer import Aer"
   ]
  },
  {
   "cell_type": "markdown",
   "id": "04802ac3",
   "metadata": {},
   "source": [
    "## 3 Pegs, 2-levels (Binomial Distribution)"
   ]
  },
  {
   "cell_type": "code",
   "execution_count": 8,
   "id": "923d3f96",
   "metadata": {},
   "outputs": [
    {
     "name": "stdout",
     "output_type": "stream",
     "text": [
      "Measurement Counts: {'00': 256, '10': 256, '01': 512}\n"
     ]
    },
    {
     "data": {
      "image/png": "[encoded data removed]",
      "text/plain": [
       "<Figure size 640x480 with 1 Axes>"
      ]
     },
     "execution_count": 8,
     "metadata": {},
     "output_type": "execute_result"
    }
   ],
   "source": [
    "from qiskit import QuantumCircuit\n",
    "from qiskit_aer import Aer\n",
    "from qiskit import QuantumCircuit, transpile\n",
    "from qiskit.visualization import plot_histogram\n",
    "import matplotlib.pyplot as plt\n",
    "\n",
    "# Number of levels (rows of pegs) in the Galton box\n",
    "num_levels = 2\n",
    "\n",
    "# Number of qubits required (num_levels for position + 1 for ancilla)\n",
    "num_qubits = num_levels + 1\n",
    "\n",
    "# Create a quantum circuit with 3 qubits and 2 classical bits\n",
    "qc1 = QuantumCircuit(num_qubits, num_levels)\n",
    "\n",
    "# Initialize the first qubit (representing the ball's initial position) to a superposition\n",
    "# Using a Hadamard gate on the first qubit simulates the 50/50 chance of going left or right\n",
    "qc1.h(0) \n",
    "\n",
    "# Apply a Hadamard gate to the second qubit for the next level\n",
    "qc1.h(1)\n",
    "\n",
    "# Level 1 (first peg row)\n",
    "qc1.cswap(0, 1, 2)  # Control: qubit 0 (previous position), Targets: qubits 1 and 2 (next positions)\n",
    "\n",
    "# Level 2 (second peg row)\n",
    "qc1.cswap(1, 0, 2)  # Control: qubit 1 (previous position), Targets: qubits 0 and 2 (next positions)\n",
    "\n",
    "# Measure the first two qubits to determine the final position\n",
    "qc1.measure([0, 1], [0, 1]) \n",
    "simulator = Aer.get_backend('qasm_simulator')\n",
    "\n",
    "# Transpile the circuit for the simulator\n",
    "compiled_circuit = transpile(qc1, simulator)\n",
    "\n",
    "# Execute the circuit and get the results\n",
    "job = simulator.run(compiled_circuit, shots=1024)\n",
    "result = job.result()\n",
    "\n",
    "# Get the measurement outcomes\n",
    "counts = result.get_counts(qc1)\n",
    "print(\"Measurement Counts:\", counts)\n",
    "\n",
    "# Plot the results as a histogram\n",
    "plot_histogram(counts)\n"
   ]
  },
  {
   "cell_type": "code",
   "execution_count": 9,
   "id": "ba755246",
   "metadata": {},
   "outputs": [
    {
     "data": {
      "text/html": [
       "<pre style=\"word-wrap: normal;white-space: pre;background: #fff0;line-height: 1.1;font-family: &quot;Courier New&quot;,Courier,monospace\">     ┌───┐      ┌─┐   \n",
       "q_0: ┤ H ├─■──X─┤M├───\n",
       "     ├───┤ │  │ └╥┘┌─┐\n",
       "q_1: ┤ H ├─X──■──╫─┤M├\n",
       "     └───┘ │  │  ║ └╥┘\n",
       "q_2: ──────X──X──╫──╫─\n",
       "                 ║  ║ \n",
       "c: 2/════════════╩══╩═\n",
       "                 0  1 </pre>"
      ],
      "text/plain": [
       "     ┌───┐      ┌─┐   \n",
       "q_0: ┤ H ├─■──X─┤M├───\n",
       "     ├───┤ │  │ └╥┘┌─┐\n",
       "q_1: ┤ H ├─X──■──╫─┤M├\n",
       "     └───┘ │  │  ║ └╥┘\n",
       "q_2: ──────X──X──╫──╫─\n",
       "                 ║  ║ \n",
       "c: 2/════════════╩══╩═\n",
       "                 0  1 "
      ]
     },
     "execution_count": 9,
     "metadata": {},
     "output_type": "execute_result"
    }
   ],
   "source": [
    "compiled_circuit.draw()"
   ]
  },
  {
   "cell_type": "markdown",
   "id": "c53a027e",
   "metadata": {},
   "source": [
    "**Notes:** If you use the above method, the circuit becomes too noisy.\n",
    "- Tried to implement a version where the swap looks at the level before\n",
    "- to implement a reset, and this was too noisy."
   ]
  },
  {
   "cell_type": "markdown",
   "id": "bc64a3ec",
   "metadata": {},
   "source": [
    "## N Pegs, n-level-Board"
   ]
  },
  {
   "cell_type": "code",
   "execution_count": 10,
   "id": "8e66159a",
   "metadata": {},
   "outputs": [],
   "source": [
    "from qiskit import QuantumCircuit\n",
    "from qiskit import QuantumRegister\n",
    "from qiskit import ClassicalRegister\n",
    "from qiskit_aer import Aer\n",
    "from qiskit import QuantumCircuit, transpile\n",
    "from qiskit.visualization import plot_histogram\n",
    "import matplotlib.pyplot as plt"
   ]
  },
  {
   "cell_type": "code",
   "execution_count": 11,
   "id": "415a78c8",
   "metadata": {
    "scrolled": true
   },
   "outputs": [
    {
     "name": "stdout",
     "output_type": "stream",
     "text": [
      "Measurement Counts: {'11100101': 1, '00100111': 2, '01000011': 1, '00010010': 2, '10100010': 3, '11101110': 3, '00111011': 3, '01100000': 2, '00100000': 4, '11010010': 1, '01100111': 1, '10110100': 2, '00000110': 3, '00100010': 3, '10001111': 2, '11011010': 2, '10001010': 3, '11110110': 3, '10011001': 1, '00101101': 3, '11011111': 2, '00010011': 1, '11010111': 4, '00000010': 1, '10010110': 5, '11100111': 1, '11011001': 4, '11101000': 4, '10111110': 4, '00000111': 4, '11010011': 2, '10001101': 6, '01101100': 1, '01110101': 5, '10111001': 2, '01110011': 3, '11110011': 5, '11110001': 4, '00000100': 4, '01111101': 1, '01010110': 3, '00011111': 4, '00011010': 6, '00001001': 4, '01010100': 4, '01001001': 2, '01111000': 6, '11010001': 7, '00011011': 3, '11000010': 3, '10011000': 6, '00110100': 3, '00000011': 6, '10110011': 5, '01010101': 3, '01100011': 4, '10111011': 7, '11111011': 6, '11000001': 4, '00110000': 7, '10110111': 5, '00101011': 5, '10100001': 5, '00000000': 8, '01111111': 3, '00110111': 2, '10000110': 5, '00110011': 4, '11001011': 7, '10011011': 2, '00101010': 4, '00011110': 3, '00101001': 4, '01001111': 4, '11010110': 5, '01001010': 3, '11100001': 4, '00111010': 7, '00010100': 3, '01011110': 4, '00001110': 3, '01000101': 7, '10010000': 3, '00011000': 8, '11111001': 4, '11100100': 4, '01010001': 2, '01100100': 4, '00010111': 3, '00001101': 1, '01100010': 5, '01011111': 3, '00010110': 6, '01011000': 5, '10100101': 4, '00110101': 4, '11111000': 1, '01101000': 6, '00100011': 4, '11100011': 7, '11111100': 2, '10010111': 2, '10010010': 3, '11000000': 6, '01011010': 6, '10000111': 6, '01101101': 6, '10110101': 1, '11011100': 3, '01110001': 4, '01000010': 4, '00111111': 2, '11011101': 5, '00000001': 8, '11111110': 2, '11110111': 2, '11111101': 2, '11101001': 3, '11101100': 5, '01000110': 3, '00001010': 5, '11000110': 2, '00001011': 4, '01010011': 4, '01010010': 6, '00001111': 2, '10000001': 3, '10110010': 4, '11000100': 5, '01110100': 8, '01101111': 6, '00110001': 5, '01100101': 5, '10000010': 8, '10011010': 5, '11110100': 4, '10001011': 6, '10100111': 7, '10100011': 6, '10111100': 5, '01111001': 7, '00010001': 2, '11001001': 5, '00101110': 5, '00101000': 3, '10011111': 3, '01101110': 3, '10111101': 3, '10000101': 7, '01110000': 3, '01110010': 7, '00001000': 4, '10010100': 3, '00100110': 9, '01101010': 2, '01011100': 5, '10101100': 3, '11110101': 8, '11011011': 3, '10001110': 1, '10101101': 3, '10010101': 5, '01001110': 9, '01011001': 2, '01110111': 4, '01010111': 7, '11000011': 9, '01001000': 6, '01000111': 2, '10001001': 3, '10111010': 6, '10110110': 4, '00000101': 3, '11110010': 7, '11010100': 5, '00001100': 3, '01000100': 8, '00111101': 4, '00010000': 6, '00100001': 2, '10100000': 3, '11001110': 5, '11110000': 6, '11100010': 5, '11101111': 3, '10010011': 5, '00101111': 7, '01101011': 5, '01000000': 4, '10000011': 6, '01001011': 7, '00110110': 4, '11101011': 4, '01111100': 3, '01010000': 4, '10010001': 8, '01101001': 4, '10011101': 2, '11101101': 2, '10110001': 3, '01011011': 3, '10100100': 3, '00100100': 6, '10011110': 4, '01100110': 3, '11001010': 3, '11001101': 7, '11001000': 3, '11111111': 6, '00111000': 5, '10111000': 3, '11001111': 7, '10011100': 3, '01001101': 2, '10101010': 3, '11010000': 7, '10001100': 3, '11101010': 8, '10000100': 2, '11100110': 5, '10101111': 7, '00101100': 5, '11100000': 6, '11010101': 3, '01111011': 2, '01000001': 5, '01111010': 2, '00011101': 6, '11111010': 5, '10111111': 2, '00010101': 7, '00111100': 4, '00110010': 2, '11011110': 2, '00100101': 3, '01001100': 4, '10101110': 4, '11000101': 10, '01111110': 7, '00011100': 5, '00011001': 5, '10101001': 3, '01110110': 4, '00111110': 2, '10101011': 2, '01100001': 2, '10110000': 4, '01011101': 4}\n"
     ]
    },
    {
     "data": {
      "image/png": "[encoded data removed]",
      "text/plain": [
       "<Figure size 640x480 with 1 Axes>"
      ]
     },
     "execution_count": 11,
     "metadata": {},
     "output_type": "execute_result"
    }
   ],
   "source": [
    "# set number of levels and pegs\n",
    "n_levels_and_pegs = 8\n",
    "\n",
    "# we need the ClassicalRegister for our swap\n",
    "qr = QuantumRegister(n_levels_and_pegs, 'q')\n",
    "cr = ClassicalRegister(n_levels_and_pegs, 'c')\n",
    "qc3 = QuantumCircuit(qr, cr)\n",
    "\n",
    "# We use the usual hadamard to simulate our pegs, but this time,\n",
    "# we use a loop to initialize the levels and pegs\n",
    "# for a simple n-level board, Hadamard gates suffice to generate the binomial distribution.\n",
    "for i in range(n_levels_and_pegs):\n",
    "    qc3.h(qr[i])\n",
    "\n",
    "# We take a measurement. \n",
    "qc3.measure(qr, cr)\n",
    "\n",
    "## we measure after to get our distribution\n",
    "# here we are counting in the bitstring the number of 1s\n",
    "# this gives us a pretty good count of our distribution ie. binomial\n",
    "simulator = Aer.get_backend('qasm_simulator')\n",
    "\n",
    "# Transpile the circuit for the simulator\n",
    "compiled_circuit = transpile(qc3, simulator)\n",
    "\n",
    "# Execute the circuit and get the results\n",
    "job = simulator.run(compiled_circuit, shots=1024)\n",
    "result = job.result()\n",
    "\n",
    "# Get the measurement outcomes\n",
    "counts = result.get_counts(qc3)\n",
    "\n",
    "print(\"Measurement Counts:\", counts)\n",
    "bin_counts = {}\n",
    "for bitstring, count in counts.items():\n",
    "    num_ones = bitstring.count('1')\n",
    "    bin_counts[num_ones] = bin_counts.get(num_ones, 0) + count\n",
    "\n",
    "plot_histogram(bin_counts)"
   ]
  },
  {
   "cell_type": "code",
   "execution_count": 12,
   "id": "c90848ac",
   "metadata": {},
   "outputs": [
    {
     "data": {
      "text/html": [
       "<pre style=\"word-wrap: normal;white-space: pre;background: #fff0;line-height: 1.1;font-family: &quot;Courier New&quot;,Courier,monospace\">     ┌───┐┌─┐                     \n",
       "q_0: ┤ H ├┤M├─────────────────────\n",
       "     ├───┤└╥┘┌─┐                  \n",
       "q_1: ┤ H ├─╫─┤M├──────────────────\n",
       "     ├───┤ ║ └╥┘┌─┐               \n",
       "q_2: ┤ H ├─╫──╫─┤M├───────────────\n",
       "     ├───┤ ║  ║ └╥┘┌─┐            \n",
       "q_3: ┤ H ├─╫──╫──╫─┤M├────────────\n",
       "     ├───┤ ║  ║  ║ └╥┘┌─┐         \n",
       "q_4: ┤ H ├─╫──╫──╫──╫─┤M├─────────\n",
       "     ├───┤ ║  ║  ║  ║ └╥┘┌─┐      \n",
       "q_5: ┤ H ├─╫──╫──╫──╫──╫─┤M├──────\n",
       "     ├───┤ ║  ║  ║  ║  ║ └╥┘┌─┐   \n",
       "q_6: ┤ H ├─╫──╫──╫──╫──╫──╫─┤M├───\n",
       "     ├───┤ ║  ║  ║  ║  ║  ║ └╥┘┌─┐\n",
       "q_7: ┤ H ├─╫──╫──╫──╫──╫──╫──╫─┤M├\n",
       "     └───┘ ║  ║  ║  ║  ║  ║  ║ └╥┘\n",
       "c: 8/══════╩══╩══╩══╩══╩══╩══╩══╩═\n",
       "           0  1  2  3  4  5  6  7 </pre>"
      ],
      "text/plain": [
       "     ┌───┐┌─┐                     \n",
       "q_0: ┤ H ├┤M├─────────────────────\n",
       "     ├───┤└╥┘┌─┐                  \n",
       "q_1: ┤ H ├─╫─┤M├──────────────────\n",
       "     ├───┤ ║ └╥┘┌─┐               \n",
       "q_2: ┤ H ├─╫──╫─┤M├───────────────\n",
       "     ├───┤ ║  ║ └╥┘┌─┐            \n",
       "q_3: ┤ H ├─╫──╫──╫─┤M├────────────\n",
       "     ├───┤ ║  ║  ║ └╥┘┌─┐         \n",
       "q_4: ┤ H ├─╫──╫──╫──╫─┤M├─────────\n",
       "     ├───┤ ║  ║  ║  ║ └╥┘┌─┐      \n",
       "q_5: ┤ H ├─╫──╫──╫──╫──╫─┤M├──────\n",
       "     ├───┤ ║  ║  ║  ║  ║ └╥┘┌─┐   \n",
       "q_6: ┤ H ├─╫──╫──╫──╫──╫──╫─┤M├───\n",
       "     ├───┤ ║  ║  ║  ║  ║  ║ └╥┘┌─┐\n",
       "q_7: ┤ H ├─╫──╫──╫──╫──╫──╫──╫─┤M├\n",
       "     └───┘ ║  ║  ║  ║  ║  ║  ║ └╥┘\n",
       "c: 8/══════╩══╩══╩══╩══╩══╩══╩══╩═\n",
       "           0  1  2  3  4  5  6  7 "
      ]
     },
     "execution_count": 12,
     "metadata": {},
     "output_type": "execute_result"
    }
   ],
   "source": [
    "qc3.draw()"
   ]
  },
  {
   "cell_type": "markdown",
   "id": "0f0d3653",
   "metadata": {},
   "source": [
    "- the basic Galton board can be simulated with independent Hadamard gates\n",
    "Hadamard gates suffice to generate the binomial distribution.\n",
    "Measure Results:\n",
    "- After traversing all levels, measure each qubit and store the result in the classical register. \n",
    "- The sum of the measured bits (number of \"rights\" or \"ones\") will correspond to the final bin the ball lands in."
   ]
  },
  {
   "cell_type": "markdown",
   "id": "77f70322",
   "metadata": {},
   "source": [
    "## Version using the swap gates and reset (very noisy!)"
   ]
  },
  {
   "cell_type": "code",
   "execution_count": 13,
   "id": "361d890e",
   "metadata": {},
   "outputs": [
    {
     "name": "stdout",
     "output_type": "stream",
     "text": [
      "Measurement Counts: {'1011': 51, '0111': 71, '1001': 61, '0101': 70, '1101': 84, '1111': 62, '1100': 56, '0100': 67, '0110': 59, '0011': 69, '0001': 53, '1010': 74, '1000': 66, '1110': 52, '0010': 62, '0000': 67}\n"
     ]
    },
    {
     "data": {
      "image/png": "[encoded data removed]",
      "text/plain": [
       "<Figure size 640x480 with 1 Axes>"
      ]
     },
     "execution_count": 13,
     "metadata": {},
     "output_type": "execute_result"
    }
   ],
   "source": [
    "# Number of levels (rows of pegs) in the Galton box\n",
    "n_levels = 4\n",
    "\n",
    "# Number of qubits required (num_levels for position + 1 for ancilla)\n",
    "num_qubits = 8\n",
    "\n",
    "# Here we would create a quantum circuit with say, 3 qubits and 2 classical bits\n",
    "# Instead, now, we have n_levels for the ball to traverse and we use \n",
    "# n_levels classical bits for measurements\n",
    "qr = QuantumRegister(n_levels, 'q')\n",
    "cr = ClassicalRegister(n_levels, 'c')\n",
    "qc4 = QuantumCircuit(qr, cr)\n",
    "\n",
    "# Initialize the first qubit (representing the ball's initial position) to a superposition\n",
    "# Using a Hadamard gate on the first qubit simulates the 50/50 chance of going left or right\n",
    "qc4.h(qr[0])\n",
    "\n",
    "\n",
    "# We now put this in a for loop for multiple pegs at each level\n",
    "for i in range(1, n_levels):\n",
    "    # Simulate a peg: Hadamard for random left/right choice\n",
    "    qc4.h(qr[i])\n",
    "    \n",
    "    # we use the SWAP here. Instead of a single swap i.e. qc1.cswap(0, 1, 2)\n",
    "    # since we now have a for loop, we swap the previous level's choice\n",
    "    # i.e. qr[i-1] to decide whether the current level qr[i] should swap\n",
    "    # for the rhs bin\n",
    "    # we then do a measure\n",
    "    qc4.swap(qr[i-1], qr[i])\n",
    "\n",
    "    # then we do a RESET. We need to measure before resetting or the histogram\n",
    "    # only measures the last result i.e. 1 value\n",
    "    qc4.measure(qr[i-1], cr[i-1])\n",
    "    qc4.reset(qr[i-1])\n",
    "\n",
    "qc4.measure(qr[n_levels -1], cr[n_levels - 1])\n",
    "\n",
    "simulator = Aer.get_backend('qasm_simulator')\n",
    "\n",
    "# Transpile the circuit for the simulator\n",
    "compiled_circuit = transpile(qc4, simulator)\n",
    "\n",
    "# Execute the circuit and get the results\n",
    "job = simulator.run(compiled_circuit, shots=1024)\n",
    "result = job.result()\n",
    "\n",
    "# Get the measurement outcomes\n",
    "counts = result.get_counts(qc4)\n",
    "print(\"Measurement Counts:\", counts)\n",
    "\n",
    "# Plot the results as a histogram\n",
    "plot_histogram(counts)"
   ]
  },
  {
   "cell_type": "code",
   "execution_count": 14,
   "id": "44588579",
   "metadata": {},
   "outputs": [
    {
     "data": {
      "text/html": [
       "<pre style=\"word-wrap: normal;white-space: pre;background: #fff0;line-height: 1.1;font-family: &quot;Courier New&quot;,Courier,monospace\">     ┌───┐   ┌─┐                     \n",
       "q_0: ┤ H ├─X─┤M├─|0>─────────────────\n",
       "     ├───┤ │ └╥┘     ┌─┐             \n",
       "q_1: ┤ H ├─X──╫───X──┤M├─|0>─────────\n",
       "     ├───┤    ║   │  └╥┘     ┌─┐     \n",
       "q_2: ┤ H ├────╫───X───╫───X──┤M├─|0>─\n",
       "     ├───┤    ║       ║   │  └╥┘ ┌─┐ \n",
       "q_3: ┤ H ├────╫───────╫───X───╫──┤M├─\n",
       "     └───┘    ║       ║       ║  └╥┘ \n",
       "c: 4/═════════╩═══════╩═══════╩═══╩══\n",
       "              0       1       2   3  </pre>"
      ],
      "text/plain": [
       "     ┌───┐   ┌─┐                     \n",
       "q_0: ┤ H ├─X─┤M├─|0>─────────────────\n",
       "     ├───┤ │ └╥┘     ┌─┐             \n",
       "q_1: ┤ H ├─X──╫───X──┤M├─|0>─────────\n",
       "     ├───┤    ║   │  └╥┘     ┌─┐     \n",
       "q_2: ┤ H ├────╫───X───╫───X──┤M├─|0>─\n",
       "     ├───┤    ║       ║   │  └╥┘ ┌─┐ \n",
       "q_3: ┤ H ├────╫───────╫───X───╫──┤M├─\n",
       "     └───┘    ║       ║       ║  └╥┘ \n",
       "c: 4/═════════╩═══════╩═══════╩═══╩══\n",
       "              0       1       2   3  "
      ]
     },
     "execution_count": 14,
     "metadata": {},
     "output_type": "execute_result"
    }
   ],
   "source": [
    "qc4.draw()"
   ]
  },
  {
   "cell_type": "code",
   "execution_count": null,
   "id": "0aa774db",
   "metadata": {},
   "outputs": [],
   "source": []
  }
 ],
 "metadata": {
  "kernelspec": {
   "display_name": "Python 3 (ipykernel)",
   "language": "python",
   "name": "python3"
  },
  "language_info": {
   "codemirror_mode": {
    "name": "ipython",
    "version": 3
   },
   "file_extension": ".py",
   "mimetype": "text/x-python",
   "name": "python",
   "nbconvert_exporter": "python",
   "pygments_lexer": "ipython3",
   "version": "3.10.10"
  }
 },
 "nbformat": 4,
 "nbformat_minor": 5
}
