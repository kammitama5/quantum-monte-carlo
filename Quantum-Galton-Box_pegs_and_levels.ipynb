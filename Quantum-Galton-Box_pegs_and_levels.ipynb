{
 "cells": [
  {
   "cell_type": "code",
   "execution_count": null,
   "id": "f5039634",
   "metadata": {},
   "outputs": [],
   "source": [
    "!pip uninstall --yes qiskit qiskit-terra"
   ]
  },
  {
   "cell_type": "code",
   "execution_count": null,
   "id": "c0b50570",
   "metadata": {},
   "outputs": [],
   "source": [
    "!pip install qiskit"
   ]
  },
  {
   "cell_type": "code",
   "execution_count": null,
   "id": "590d21cf",
   "metadata": {},
   "outputs": [],
   "source": [
    "!pip install -U qiskit-aer"
   ]
  },
  {
   "cell_type": "markdown",
   "id": "39f96ce5",
   "metadata": {},
   "source": [
    "## A Quantum Peg"
   ]
  },
  {
   "cell_type": "code",
   "execution_count": 112,
   "id": "9394878e",
   "metadata": {},
   "outputs": [
    {
     "name": "stdout",
     "output_type": "stream",
     "text": [
      "Measurement results: {'0001': 522, '0000': 502}\n"
     ]
    }
   ],
   "source": [
    "from qiskit.compiler import transpile\n",
    "from qiskit import QuantumCircuit\n",
    "from qiskit_aer import AerSimulator\n",
    "from qiskit.visualization import plot_histogram\n",
    "\n",
    "# This is the first simple version\n",
    "# Number of qubits representing the path/position\n",
    "num_qubits = 4 \n",
    "qc = QuantumCircuit(num_qubits, num_qubits)\n",
    "\n",
    "# Initialize the \"ball\" (e.g., in a specific starting position)\n",
    "qc.x(0) # Invert the first qubit for a specific starting condition\n",
    "# Here we simulate the \"pegs\" using controlled operations and superposition\n",
    "qc.h(0) # Introduce superposition for a \"peg\"\n",
    "# Simulate interaction and path change (i.e. swap left for input 2)\n",
    "qc.cswap(0, 1, 2) \n",
    "# add control 1 if the ball fell\n",
    "qc.cx(2,0)\n",
    "# Add more layers of \"pegs\" as needed for the desired depth of the QGB\n",
    "qc.cswap(0, 2, 3)\n",
    "# Measure the final state\n",
    "qc.measure(range(num_qubits), range(num_qubits))\n",
    "\n",
    "## For more than 2, we need to Reset: qubit initialize zero..somehow\n",
    "\n",
    "# Run the circuit on a simulator\n",
    "simulator = AerSimulator()\n",
    "compiled_circuit = transpile(qc, simulator)\n",
    "job = simulator.run(compiled_circuit, shots=1024)\n",
    "result = job.result()\n",
    "counts = result.get_counts(compiled_circuit)\n",
    "\n",
    "print(\"Measurement results:\", counts)"
   ]
  },
  {
   "cell_type": "code",
   "execution_count": 113,
   "id": "047801fc",
   "metadata": {
    "scrolled": false
   },
   "outputs": [
    {
     "data": {
      "text/html": [
       "<pre style=\"word-wrap: normal;white-space: pre;background: #fff0;line-height: 1.1;font-family: &quot;Courier New&quot;,Courier,monospace\">     ┌───┐┌───┐   ┌───┐      ┌─┐      \n",
       "q_0: ┤ X ├┤ H ├─■─┤ X ├────■─┤M├──────\n",
       "     └───┘└───┘ │ └─┬─┘┌─┐ │ └╥┘      \n",
       "q_1: ───────────X───┼──┤M├─┼──╫───────\n",
       "                │   │  └╥┘ │  ║ ┌─┐   \n",
       "q_2: ───────────X───■───╫──X──╫─┤M├───\n",
       "                        ║  │  ║ └╥┘┌─┐\n",
       "q_3: ───────────────────╫──X──╫──╫─┤M├\n",
       "                        ║     ║  ║ └╥┘\n",
       "c: 4/═══════════════════╩═════╩══╩══╩═\n",
       "                        1     0  2  3 </pre>"
      ],
      "text/plain": [
       "     ┌───┐┌───┐   ┌───┐      ┌─┐      \n",
       "q_0: ┤ X ├┤ H ├─■─┤ X ├────■─┤M├──────\n",
       "     └───┘└───┘ │ └─┬─┘┌─┐ │ └╥┘      \n",
       "q_1: ───────────X───┼──┤M├─┼──╫───────\n",
       "                │   │  └╥┘ │  ║ ┌─┐   \n",
       "q_2: ───────────X───■───╫──X──╫─┤M├───\n",
       "                        ║  │  ║ └╥┘┌─┐\n",
       "q_3: ───────────────────╫──X──╫──╫─┤M├\n",
       "                        ║     ║  ║ └╥┘\n",
       "c: 4/═══════════════════╩═════╩══╩══╩═\n",
       "                        1     0  2  3 "
      ]
     },
     "execution_count": 113,
     "metadata": {},
     "output_type": "execute_result"
    }
   ],
   "source": [
    "qc.draw()"
   ]
  },
  {
   "cell_type": "code",
   "execution_count": 114,
   "id": "507e2e13",
   "metadata": {},
   "outputs": [
    {
     "data": {
      "image/png": "[encoded data removed]",
      "text/plain": [
       "<Figure size 640x480 with 1 Axes>"
      ]
     },
     "execution_count": 114,
     "metadata": {},
     "output_type": "execute_result"
    }
   ],
   "source": [
    "## Plot distribution\n",
    "simulator = AerSimulator()\n",
    "qc_t = transpile(qc, simulator)\n",
    "job = simulator.run(qc_t, shots=1024)\n",
    "result = job.result()\n",
    "counts = result.get_counts()\n",
    "plot_histogram(counts)"
   ]
  },
  {
   "cell_type": "code",
   "execution_count": 115,
   "id": "909b1854",
   "metadata": {},
   "outputs": [],
   "source": [
    "from qiskit_aer import Aer"
   ]
  },
  {
   "cell_type": "markdown",
   "id": "04802ac3",
   "metadata": {},
   "source": [
    "## 3 Pegs, 2-levels (Binomial Distribution)"
   ]
  },
  {
   "cell_type": "code",
   "execution_count": 116,
   "id": "923d3f96",
   "metadata": {},
   "outputs": [
    {
     "name": "stdout",
     "output_type": "stream",
     "text": [
      "Measurement Counts: {'10': 258, '00': 249, '01': 517}\n"
     ]
    },
    {
     "data": {
      "image/png": "[encoded data removed]",
      "text/plain": [
       "<Figure size 640x480 with 1 Axes>"
      ]
     },
     "execution_count": 116,
     "metadata": {},
     "output_type": "execute_result"
    }
   ],
   "source": [
    "from qiskit import QuantumCircuit\n",
    "from qiskit_aer import Aer\n",
    "from qiskit import QuantumCircuit, transpile\n",
    "from qiskit.visualization import plot_histogram\n",
    "import matplotlib.pyplot as plt\n",
    "\n",
    "# Number of levels (rows of pegs) in the Galton box\n",
    "num_levels = 2\n",
    "\n",
    "# Number of qubits required (num_levels for position + 1 for ancilla)\n",
    "num_qubits = num_levels + 1\n",
    "\n",
    "# Create a quantum circuit with 3 qubits and 2 classical bits\n",
    "qc1 = QuantumCircuit(num_qubits, num_levels)\n",
    "\n",
    "# Initialize the first qubit (representing the ball's initial position) to a superposition\n",
    "# Using a Hadamard gate on the first qubit simulates the 50/50 chance of going left or right\n",
    "qc1.h(0) \n",
    "\n",
    "# Apply a Hadamard gate to the second qubit for the next level\n",
    "qc1.h(1)\n",
    "\n",
    "# Level 1 (first peg row)\n",
    "qc1.cswap(0, 1, 2)  # Control: qubit 0 (previous position), Targets: qubits 1 and 2 (next positions)\n",
    "\n",
    "# Level 2 (second peg row)\n",
    "qc1.cswap(1, 0, 2)  # Control: qubit 1 (previous position), Targets: qubits 0 and 2 (next positions)\n",
    "\n",
    "# Measure the first two qubits to determine the final position\n",
    "qc1.measure([0, 1], [0, 1]) \n",
    "simulator = Aer.get_backend('qasm_simulator')\n",
    "\n",
    "# Transpile the circuit for the simulator\n",
    "compiled_circuit = transpile(qc1, simulator)\n",
    "\n",
    "# Execute the circuit and get the results\n",
    "job = simulator.run(compiled_circuit, shots=1024)\n",
    "result = job.result()\n",
    "\n",
    "# Get the measurement outcomes\n",
    "counts = result.get_counts(qc1)\n",
    "print(\"Measurement Counts:\", counts)\n",
    "\n",
    "# Plot the results as a histogram\n",
    "plot_histogram(counts)\n"
   ]
  },
  {
   "cell_type": "code",
   "execution_count": 117,
   "id": "ba755246",
   "metadata": {},
   "outputs": [
    {
     "data": {
      "text/html": [
       "<pre style=\"word-wrap: normal;white-space: pre;background: #fff0;line-height: 1.1;font-family: &quot;Courier New&quot;,Courier,monospace\">     ┌───┐      ┌─┐   \n",
       "q_0: ┤ H ├─■──X─┤M├───\n",
       "     ├───┤ │  │ └╥┘┌─┐\n",
       "q_1: ┤ H ├─X──■──╫─┤M├\n",
       "     └───┘ │  │  ║ └╥┘\n",
       "q_2: ──────X──X──╫──╫─\n",
       "                 ║  ║ \n",
       "c: 2/════════════╩══╩═\n",
       "                 0  1 </pre>"
      ],
      "text/plain": [
       "     ┌───┐      ┌─┐   \n",
       "q_0: ┤ H ├─■──X─┤M├───\n",
       "     ├───┤ │  │ └╥┘┌─┐\n",
       "q_1: ┤ H ├─X──■──╫─┤M├\n",
       "     └───┘ │  │  ║ └╥┘\n",
       "q_2: ──────X──X──╫──╫─\n",
       "                 ║  ║ \n",
       "c: 2/════════════╩══╩═\n",
       "                 0  1 "
      ]
     },
     "execution_count": 117,
     "metadata": {},
     "output_type": "execute_result"
    }
   ],
   "source": [
    "compiled_circuit.draw()"
   ]
  },
  {
   "cell_type": "markdown",
   "id": "c53a027e",
   "metadata": {},
   "source": [
    "**Notes:** If you use the above method, the circuit becomes too noisy.\n",
    "- Tried to implement a version where the swap looks at the level before\n",
    "- to implement a reset, and this was too noisy."
   ]
  },
  {
   "cell_type": "markdown",
   "id": "bc64a3ec",
   "metadata": {},
   "source": [
    "## N Pegs, n-level-Board"
   ]
  },
  {
   "cell_type": "code",
   "execution_count": 168,
   "id": "8e66159a",
   "metadata": {},
   "outputs": [],
   "source": [
    "from qiskit import QuantumCircuit\n",
    "from qiskit import QuantumRegister\n",
    "from qiskit import ClassicalRegister\n",
    "from qiskit_aer import Aer\n",
    "from qiskit import QuantumCircuit, transpile\n",
    "from qiskit.visualization import plot_histogram\n",
    "import matplotlib.pyplot as plt"
   ]
  },
  {
   "cell_type": "code",
   "execution_count": 174,
   "id": "415a78c8",
   "metadata": {
    "scrolled": true
   },
   "outputs": [
    {
     "data": {
      "image/png": "[encoded data removed]",
      "text/plain": [
       "<Figure size 640x480 with 1 Axes>"
      ]
     },
     "execution_count": 174,
     "metadata": {},
     "output_type": "execute_result"
    }
   ],
   "source": [
    "# set number of levels and pegs\n",
    "n_levels_and_pegs = 8\n",
    "\n",
    "# we need the ClassicalRegister for our swap\n",
    "qr = QuantumRegister(n, 'q')\n",
    "cr = ClassicalRegister(n, 'c')\n",
    "qc3 = QuantumCircuit(qr, cr)\n",
    "\n",
    "# We use the usual hadamard to simulate our pegs, but this time,\n",
    "# we use a loop to initialize the levels and pegs\n",
    "# for a simple n-level board, Hadamard gates suffice to generate the binomial distribution.\n",
    "for i in range(n_levels_and_pegs):\n",
    "    qc3.h(qr[i])\n",
    "\n",
    "# We take a measurement. \n",
    "qc3.measure(qr, cr)\n",
    "\n",
    "## we measure after to get our distribution\n",
    "# here we are counting in the bitstring the number of 1s\n",
    "# this gives us a pretty good count of our distribution ie. binomial\n",
    "bin_counts = {}\n",
    "for bitstring, count in counts.items():\n",
    "    num_ones = bitstring.count('1')\n",
    "    bin_counts[num_ones] = bin_counts.get(num_ones, 0) + count\n",
    "\n",
    "plot_histogram(bin_counts)"
   ]
  },
  {
   "cell_type": "code",
   "execution_count": 182,
   "id": "c90848ac",
   "metadata": {},
   "outputs": [
    {
     "data": {
      "text/html": [
       "<pre style=\"word-wrap: normal;white-space: pre;background: #fff0;line-height: 1.1;font-family: &quot;Courier New&quot;,Courier,monospace\">     ┌───┐   ┌─┐     \n",
       "q_0: ┤ H ├─X─┤M├─|0>─\n",
       "     ├───┤ │ └╥┘ ┌─┐ \n",
       "q_1: ┤ H ├─X──╫──┤M├─\n",
       "     └───┘    ║  └╥┘ \n",
       "c: 2/═════════╩═══╩══\n",
       "              0   1  </pre>"
      ],
      "text/plain": [
       "     ┌───┐   ┌─┐     \n",
       "q_0: ┤ H ├─X─┤M├─|0>─\n",
       "     ├───┤ │ └╥┘ ┌─┐ \n",
       "q_1: ┤ H ├─X──╫──┤M├─\n",
       "     └───┘    ║  └╥┘ \n",
       "c: 2/═════════╩═══╩══\n",
       "              0   1  "
      ]
     },
     "execution_count": 182,
     "metadata": {},
     "output_type": "execute_result"
    }
   ],
   "source": [
    "qc3.draw()"
   ]
  },
  {
   "cell_type": "markdown",
   "id": "0f0d3653",
   "metadata": {},
   "source": [
    "- the basic Galton board can be simulated with independent Hadamard gates\n",
    "Hadamard gates suffice to generate the binomial distribution.\n",
    "Measure Results:\n",
    "- After traversing all levels, measure each qubit and store the result in the classical register. \n",
    "- The sum of the measured bits (number of \"rights\" or \"ones\") will correspond to the final bin the ball lands in."
   ]
  },
  {
   "cell_type": "markdown",
   "id": "77f70322",
   "metadata": {},
   "source": [
    "## Version using the swap gates and reset (very noisy!)"
   ]
  },
  {
   "cell_type": "code",
   "execution_count": 181,
   "id": "361d890e",
   "metadata": {},
   "outputs": [
    {
     "name": "stdout",
     "output_type": "stream",
     "text": [
      "Measurement Counts: {'01': 241, '00': 275, '11': 244, '10': 264}\n"
     ]
    },
    {
     "data": {
      "image/png": "[encoded data removed]",
      "text/plain": [
       "<Figure size 640x480 with 1 Axes>"
      ]
     },
     "execution_count": 181,
     "metadata": {},
     "output_type": "execute_result"
    }
   ],
   "source": [
    "# Number of levels (rows of pegs) in the Galton box\n",
    "num_levels = 8\n",
    "\n",
    "# Number of qubits required (num_levels for position + 1 for ancilla)\n",
    "num_qubits = 8\n",
    "\n",
    "# Here we would create a quantum circuit with say, 3 qubits and 2 classical bits\n",
    "# Instead, now, we have n_levels for the ball to traverse and we use \n",
    "# n_levels classical bits for measurements\n",
    "qr = QuantumRegister(n_levels, 'q')\n",
    "cr = ClassicalRegister(n_levels, 'c')\n",
    "qc4 = QuantumCircuit(qr, cr)\n",
    "\n",
    "# Initialize the first qubit (representing the ball's initial position) to a superposition\n",
    "# Using a Hadamard gate on the first qubit simulates the 50/50 chance of going left or right\n",
    "qc4.h(qr[0])\n",
    "\n",
    "\n",
    "# We now put this in a for loop for multiple pegs at each level\n",
    "for i in range(1, n_levels):\n",
    "    # Simulate a peg: Hadamard for random left/right choice\n",
    "    qc4.h(qr[i])\n",
    "    \n",
    "    # we use the SWAP here. Instead of a single swap i.e. qc1.cswap(0, 1, 2)\n",
    "    # since we now have a for loop, we swap the previous level's choice\n",
    "    # i.e. qr[i-1] to decide whether the current level qr[i] should swap\n",
    "    # for the rhs bin\n",
    "    # we then do a measure\n",
    "    qc4.swap(qr[i-1], qr[i])\n",
    "\n",
    "    # then we do a RESET. We need to measure before resetting or the histogram\n",
    "    # only measures the last result i.e. 1 value\n",
    "    qc4.measure(qr[i-1], cr[i-1])\n",
    "    qc4.reset(qr[i-1])\n",
    "\n",
    "qc4.measure(qr[n_levels -1], cr[n_levels - 1])\n",
    "\n",
    "simulator = Aer.get_backend('qasm_simulator')\n",
    "\n",
    "# Transpile the circuit for the simulator\n",
    "compiled_circuit = transpile(qc4, simulator)\n",
    "\n",
    "# Execute the circuit and get the results\n",
    "job = simulator.run(compiled_circuit, shots=1024)\n",
    "result = job.result()\n",
    "\n",
    "# Get the measurement outcomes\n",
    "counts = result.get_counts(qc4)\n",
    "print(\"Measurement Counts:\", counts)\n",
    "\n",
    "# Plot the results as a histogram\n",
    "plot_histogram(counts)"
   ]
  },
  {
   "cell_type": "code",
   "execution_count": 183,
   "id": "44588579",
   "metadata": {},
   "outputs": [
    {
     "data": {
      "text/html": [
       "<pre style=\"word-wrap: normal;white-space: pre;background: #fff0;line-height: 1.1;font-family: &quot;Courier New&quot;,Courier,monospace\">     ┌───┐   ┌─┐     \n",
       "q_0: ┤ H ├─X─┤M├─|0>─\n",
       "     ├───┤ │ └╥┘ ┌─┐ \n",
       "q_1: ┤ H ├─X──╫──┤M├─\n",
       "     └───┘    ║  └╥┘ \n",
       "c: 2/═════════╩═══╩══\n",
       "              0   1  </pre>"
      ],
      "text/plain": [
       "     ┌───┐   ┌─┐     \n",
       "q_0: ┤ H ├─X─┤M├─|0>─\n",
       "     ├───┤ │ └╥┘ ┌─┐ \n",
       "q_1: ┤ H ├─X──╫──┤M├─\n",
       "     └───┘    ║  └╥┘ \n",
       "c: 2/═════════╩═══╩══\n",
       "              0   1  "
      ]
     },
     "execution_count": 183,
     "metadata": {},
     "output_type": "execute_result"
    }
   ],
   "source": [
    "qc4.draw()"
   ]
  },
  {
   "cell_type": "code",
   "execution_count": null,
   "id": "0aa774db",
   "metadata": {},
   "outputs": [],
   "source": []
  }
 ],
 "metadata": {
  "kernelspec": {
   "display_name": "Python 3 (ipykernel)",
   "language": "python",
   "name": "python3"
  },
  "language_info": {
   "codemirror_mode": {
    "name": "ipython",
    "version": 3
   },
   "file_extension": ".py",
   "mimetype": "text/x-python",
   "name": "python",
   "nbconvert_exporter": "python",
   "pygments_lexer": "ipython3",
   "version": "3.10.10"
  }
 },
 "nbformat": 4,
 "nbformat_minor": 5
}
