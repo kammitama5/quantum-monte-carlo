{
 "cells": [
  {
   "cell_type": "code",
   "execution_count": 1,
   "id": "dba2667d",
   "metadata": {},
   "outputs": [],
   "source": [
    "# pip install --upgrade pip"
   ]
  },
  {
   "cell_type": "code",
   "execution_count": null,
   "id": "6c2b0e8c",
   "metadata": {},
   "outputs": [],
   "source": [
    "!pip install qiskit==0.46"
   ]
  },
  {
   "cell_type": "code",
   "execution_count": 5,
   "id": "971f2c22",
   "metadata": {},
   "outputs": [],
   "source": [
    "from math import asin, pi, sqrt\n",
    "\n",
    "from qiskit import Aer, execute, QuantumCircuit, QuantumRegister"
   ]
  },
  {
   "cell_type": "code",
   "execution_count": 6,
   "id": "a086c927",
   "metadata": {},
   "outputs": [],
   "source": [
    "def initialize_circuit():\n",
    "    qr = QuantumRegister(2)\n",
    "    qc_init = QuantumCircuit(qr)\n",
    "    qc_init.ry(0.28, 0)\n",
    "    qc_init.ry(0.2, 1)\n",
    "    return qr, qc_init"
   ]
  },
  {
   "cell_type": "code",
   "execution_count": 7,
   "id": "fb5bf1d5",
   "metadata": {},
   "outputs": [
    {
     "data": {
      "text/html": [
       "<pre style=\"word-wrap: normal;white-space: pre;background: #fff0;line-height: 1.1;font-family: &quot;Courier New&quot;,Courier,monospace\">      ┌──────────┐\n",
       "q1_0: ┤ Ry(0.28) ├\n",
       "      ├─────────┬┘\n",
       "q1_1: ┤ Ry(0.2) ├─\n",
       "      └─────────┘ </pre>"
      ],
      "text/plain": [
       "      ┌──────────┐\n",
       "q1_0: ┤ Ry(0.28) ├\n",
       "      ├─────────┬┘\n",
       "q1_1: ┤ Ry(0.2) ├─\n",
       "      └─────────┘ "
      ]
     },
     "execution_count": 7,
     "metadata": {},
     "output_type": "execute_result"
    }
   ],
   "source": [
    "qr, qc_init = initialize_circuit()\n",
    "qc_init.draw()"
   ]
  },
  {
   "cell_type": "code",
   "execution_count": null,
   "id": "67169a5d",
   "metadata": {},
   "outputs": [],
   "source": []
  }
 ],
 "metadata": {
  "kernelspec": {
   "display_name": "Python 3 (ipykernel)",
   "language": "python",
   "name": "python3"
  },
  "language_info": {
   "codemirror_mode": {
    "name": "ipython",
    "version": 3
   },
   "file_extension": ".py",
   "mimetype": "text/x-python",
   "name": "python",
   "nbconvert_exporter": "python",
   "pygments_lexer": "ipython3",
   "version": "3.10.10"
  }
 },
 "nbformat": 4,
 "nbformat_minor": 5
}
